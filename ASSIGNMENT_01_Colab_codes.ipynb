{
  "nbformat": 4,
  "nbformat_minor": 0,
  "metadata": {
    "colab": {
      "provenance": []
    },
    "kernelspec": {
      "name": "python3",
      "display_name": "Python 3"
    },
    "language_info": {
      "name": "python"
    }
  },
  "cells": [
    {
      "cell_type": "markdown",
      "source": [
        "In this Assignment the MNIST dataset was downloaded from Github through the following link:  https://git-disl.github.io/GTDLBench/datasets/mnist_datasets/"
      ],
      "metadata": {
        "id": "kzjJ8CRPucac"
      }
    },
    {
      "cell_type": "code",
      "source": [
        "# code for importing data\n",
        "\n",
        "import numpy as np\n",
        "\n",
        "def load_data():\n",
        "    def _load_data(filename, num_samples, offset):\n",
        "        with open(filename, 'rb') as f:\n",
        "            f.read(offset)\n",
        "            data = np.frombuffer(f.read(num_samples * 28 * 28), dtype=np.uint8)\n",
        "        return data.reshape(num_samples, 28*28)\n",
        "\n",
        "    def _load_labels(filename, num_samples, offset):\n",
        "        with open(filename, 'rb') as f:\n",
        "            f.read(offset)\n",
        "            labels = np.frombuffer(f.read(num_samples), dtype=np.uint8)\n",
        "        return labels.reshape(num_samples, 1)\n",
        "\n",
        "    train_images = _load_data('train-images.idx3-ubyte', 60000, 16)\n",
        "    train_labels = _load_labels('train-labels.idx1-ubyte', 60000, 8)\n",
        "    test_images = _load_data('t10k-images.idx3-ubyte', 10000, 16)\n",
        "    test_labels = _load_labels('t10k-labels.idx1-ubyte', 10000, 8)\n",
        "\n",
        "    return train_images, train_labels, test_images, test_labels\n",
        "\n",
        "# Load the data\n",
        "train_images, train_labels, test_images, test_labels = load_data()"
      ],
      "metadata": {
        "id": "i-dSwhFiuXaK"
      },
      "execution_count": 4,
      "outputs": []
    },
    {
      "cell_type": "code",
      "source": [
        "# codes for displaying a few images and their corresponding labels\n",
        "import matplotlib.pyplot as plt\n",
        "num_images_to_display = 5\n",
        "fig, axes = plt.subplots(1, num_images_to_display, figsize=(12, 3))\n",
        "for i in range(num_images_to_display):\n",
        "    axes[i].imshow(train_images[i].reshape(28, 28), cmap='gray')\n",
        "    axes[i].set_title(f\"Label: {train_labels[i][0]}\")\n",
        "    axes[i].axis('off')\n",
        "plt.tight_layout()\n",
        "plt.show()"
      ],
      "metadata": {
        "colab": {
          "base_uri": "https://localhost:8080/",
          "height": 281
        },
        "id": "Mk7yELBWvG0i",
        "outputId": "c694fea7-77c6-490a-ecf7-768e5cc0134d"
      },
      "execution_count": 5,
      "outputs": [
        {
          "output_type": "display_data",
          "data": {
            "text/plain": [
              "<Figure size 1200x300 with 5 Axes>"
            ],
            "image/png": "[encoded data removed]"
          },
          "metadata": {}
        }
      ]
    },
    {
      "cell_type": "markdown",
      "source": [
        "Data vectorization, also known as feature vectorization, is the process of converting raw data into a numerical representation in the form of vectors or arrays. Data vectorization is a crucial step in preparing data for machine learning tasks. It converts raw data into a numerical format that algorithms can understand, enabling them to learn patterns, make predictions, and perform various data analysis tasks effectively."
      ],
      "metadata": {
        "id": "5AiwulEWxx69"
      }
    },
    {
      "cell_type": "code",
      "source": [
        "# Data representation/vectorization\n",
        "train_images_vectorized = train_images.reshape(train_images.shape[0], -1)\n",
        "test_images_vectorized = test_images.reshape(test_images.shape[0], -1)"
      ],
      "metadata": {
        "id": "ogCV5em7xsLQ"
      },
      "execution_count": 6,
      "outputs": []
    },
    {
      "cell_type": "markdown",
      "source": [
        "Data normalization, also known as data scaling or feature scaling, is a preprocessing technique used to bring data into a standardized range. It involves transforming the values of different features or variables in a dataset to a common scale, typically between 0 and 1 or with a mean of 0 and a standard deviation of 1. The goal of data normalization is to ensure that the features have similar scales and distributions, which can improve the performance and stability of machine learning algorithms."
      ],
      "metadata": {
        "id": "yA0X4SAYyW69"
      }
    },
    {
      "cell_type": "code",
      "source": [
        "# Data normalization, if needed\n",
        "train_images_normalized = train_images_vectorized / 255.0\n",
        "test_images_normalized = test_images_vectorized / 255.0\n",
        "\n",
        "def display_images(images, labels, num_images=5):\n",
        "    fig, axes = plt.subplots(1, num_images, figsize=(12, 3))\n",
        "    for i in range(num_images):\n",
        "        axes[i].imshow(images[i].reshape(28, 28), cmap='gray')\n",
        "        axes[i].set_title(f\"Label: {labels[i][0]}\")\n",
        "        axes[i].axis('off')\n",
        "    plt.show()\n",
        "\n",
        "display_images(train_images_normalized, train_labels)"
      ],
      "metadata": {
        "colab": {
          "base_uri": "https://localhost:8080/",
          "height": 219
        },
        "id": "-1D8GGthygiL",
        "outputId": "19322421-753f-4191-8128-bdcda4193402"
      },
      "execution_count": 7,
      "outputs": [
        {
          "output_type": "display_data",
          "data": {
            "text/plain": [
              "<Figure size 1200x300 with 5 Axes>"
            ],
            "image/png": "[encoded data removed]"
          },
          "metadata": {}
        }
      ]
    },
    {
      "cell_type": "code",
      "source": [
        "#codes for data spliiting in different ratios:\n",
        "from sklearn.model_selection import train_test_split\n",
        "def split_data(train_images, train_labels, test_images, test_labels, test_size):\n",
        "    # Concatenate train and test sets for splitting\n",
        "    images = np.concatenate((train_images, test_images))\n",
        "    labels = np.concatenate((train_labels, test_labels))\n",
        "\n",
        "    # Split the data into training and testing sets\n",
        "    train_images, test_images, train_labels, test_labels = train_test_split(\n",
        "        images, labels, test_size=test_size, random_state=42, stratify=labels)\n",
        "\n",
        "    return train_images, train_labels, test_images, test_labels\n",
        "\n",
        "# Load the data\n",
        "train_images, train_labels, test_images, test_labels = load_data()\n",
        "\n",
        "# Ratios for splitting data\n",
        "ratios = [(0.8, 0.2), (0.5, 0.5), (0.2, 0.8), (0.01, 0.99)]\n",
        "\n",
        "for ratio in ratios:\n",
        "    print(f\"\\nSplitting data with ratio {int(ratio[0]*100)}-{int(ratio[1]*100)}\")\n",
        "    train_images_split, train_labels_split, test_images_split, test_labels_split = split_data(\n",
        "        train_images, train_labels, test_images, test_labels, test_size=ratio[1])\n",
        "    print(f\"Number of training samples: {len(train_images_split)}\")\n",
        "    print(f\"Number of testing samples: {len(test_images_split)}\")"
      ],
      "metadata": {
        "colab": {
          "base_uri": "https://localhost:8080/",
          "height": 0
        },
        "id": "SbbkM2DTyo3O",
        "outputId": "e912274d-0440-48d5-927e-be490e020157"
      },
      "execution_count": 8,
      "outputs": [
        {
          "output_type": "stream",
          "name": "stdout",
          "text": [
            "\n",
            "Splitting data with ratio 80-20\n",
            "Number of training samples: 56000\n",
            "Number of testing samples: 14000\n",
            "\n",
            "Splitting data with ratio 50-50\n",
            "Number of training samples: 35000\n",
            "Number of testing samples: 35000\n",
            "\n",
            "Splitting data with ratio 20-80\n",
            "Number of training samples: 14000\n",
            "Number of testing samples: 56000\n",
            "\n",
            "Splitting data with ratio 1-99\n",
            "Number of training samples: 700\n",
            "Number of testing samples: 69300\n"
          ]
        }
      ]
    },
    {
      "cell_type": "code",
      "source": [
        "#codes for model selection and  training:\n",
        "#In this assignment,four models were used which are logistic regression,decision tree,random forest and support vector machine.\n",
        "import numpy as np\n",
        "from sklearn.model_selection import train_test_split\n",
        "from sklearn.linear_model import LogisticRegression\n",
        "from sklearn.tree import DecisionTreeClassifier\n",
        "from sklearn.ensemble import RandomForestClassifier\n",
        "from sklearn.svm import SVC\n",
        "from sklearn.metrics import accuracy_score\n",
        "\n",
        "def train_model(X_train, y_train, X_test, model):\n",
        "    # Function to train a model and return its accuracy\n",
        "    model.fit(X_train, y_train)\n",
        "    y_pred = model.predict(X_test)\n",
        "    accuracy = accuracy_score(y_test, y_pred)\n",
        "    return accuracy\n",
        "\n",
        "# Load the data\n",
        "train_images, train_labels, _, _ = load_data()\n",
        "\n",
        "# Data splitting and model training for different ratios\n",
        "ratios = [(0.8, 0.2), (0.5, 0.5), (0.2, 0.8), (0.01, 0.99)]\n",
        "\n",
        "for train_ratio, test_ratio in ratios:\n",
        "    print(f\"Training ratio: {train_ratio}, Testing ratio: {test_ratio}\")\n",
        "    X_train, X_test, y_train, y_test = train_test_split(train_images, train_labels, test_size=test_ratio, random_state=42)\n",
        "\n",
        "    models = {\n",
        "        \"Logistic Regression\": LogisticRegression(),\n",
        "        \"Decision Tree\": DecisionTreeClassifier(),\n",
        "        \"Random Forest\": RandomForestClassifier(),\n",
        "        \"Support Vector Machine\": SVC()\n",
        "    }"
      ],
      "metadata": {
        "colab": {
          "base_uri": "https://localhost:8080/",
          "height": 0
        },
        "id": "qaS8H39_yv-V",
        "outputId": "049962fa-b917-4835-cda3-1ccbce80c169"
      },
      "execution_count": 9,
      "outputs": [
        {
          "output_type": "stream",
          "name": "stdout",
          "text": [
            "Training ratio: 0.8, Testing ratio: 0.2\n",
            "Training ratio: 0.5, Testing ratio: 0.5\n",
            "Training ratio: 0.2, Testing ratio: 0.8\n",
            "Training ratio: 0.01, Testing ratio: 0.99\n"
          ]
        }
      ]
    },
    {
      "cell_type": "code",
      "source": [
        "#codes for model evaluation:\n",
        "import numpy as np\n",
        "from sklearn.model_selection import train_test_split\n",
        "from sklearn.linear_model import LogisticRegression\n",
        "from sklearn.tree import DecisionTreeClassifier\n",
        "from sklearn.ensemble import RandomForestClassifier\n",
        "from sklearn.svm import SVC\n",
        "from sklearn.metrics import accuracy_score, precision_score, recall_score, f1_score, confusion_matrix\n",
        "\n",
        "\n",
        "def evaluate_model(y_true, y_pred):\n",
        "    # Calculate evaluation metrics\n",
        "    accuracy = accuracy_score(y_true, y_pred)\n",
        "    precision = precision_score(y_true, y_pred, average='weighted')\n",
        "    recall = recall_score(y_true, y_pred, average='weighted')\n",
        "    f1 = f1_score(y_true, y_pred, average='weighted')\n",
        "    cm = confusion_matrix(y_true, y_pred)\n",
        "    return accuracy, precision, recall, f1, cm\n",
        "\n",
        "# Load the data\n",
        "train_images, train_labels, _, _ = load_data()\n",
        "\n",
        "# Data splitting and model training for different ratios and algorithms\n",
        "ratios = [(0.8, 0.2), (0.5, 0.5), (0.2, 0.8), (0.01, 0.99)]\n",
        "\n",
        "for train_ratio, test_ratio in ratios:\n",
        "    print(f\"Training ratio: {train_ratio}, Testing ratio: {test_ratio}\")\n",
        "    X_train, X_test, y_train, y_test = train_test_split(train_images, train_labels, test_size=test_ratio, random_state=42)\n",
        "\n",
        "    models = {\n",
        "        \"Logistic Regression\": LogisticRegression(),\n",
        "        \"Decision Tree\": DecisionTreeClassifier(),\n",
        "        \"Random Forest\": RandomForestClassifier(),\n",
        "        \"Support Vector Machine\": SVC()\n",
        "    }\n",
        "\n",
        "    for model_name, model in models.items():\n",
        "        # Train the model\n",
        "        model.fit(X_train, y_train.ravel())\n",
        "\n",
        "        # Predictions\n",
        "        y_pred = model.predict(X_test)\n",
        "\n",
        "        # Evaluate the model\n",
        "        accuracy, precision, recall, f1, cm = evaluate_model(y_test, y_pred)\n",
        "        print(f\"Model: {model_name}\")\n",
        "        print(f\"Accuracy: {accuracy:.4f}, Precision: {precision:.4f}, Recall: {recall:.4f}, F1-score: {f1:.4f}\")\n",
        "        print(\"Confusion Matrix:\")\n",
        "        print(cm)\n",
        "        print()"
      ],
      "metadata": {
        "colab": {
          "base_uri": "https://localhost:8080/",
          "height": 0
        },
        "id": "H8542LuBy3qe",
        "outputId": "e5474899-da94-4481-bf27-ae614f669b2f"
      },
      "execution_count": 10,
      "outputs": [
        {
          "output_type": "stream",
          "name": "stdout",
          "text": [
            "Training ratio: 0.8, Testing ratio: 0.2\n"
          ]
        },
        {
          "output_type": "stream",
          "name": "stderr",
          "text": [
            "/usr/local/lib/python3.10/dist-packages/sklearn/linear_model/_logistic.py:458: ConvergenceWarning: lbfgs failed to converge (status=1):\n",
            "STOP: TOTAL NO. of ITERATIONS REACHED LIMIT.\n",
            "\n",
            "Increase the number of iterations (max_iter) or scale the data as shown in:\n",
            "    https://scikit-learn.org/stable/modules/preprocessing.html\n",
            "Please also refer to the documentation for alternative solver options:\n",
            "    https://scikit-learn.org/stable/modules/linear_model.html#logistic-regression\n",
            "  n_iter_i = _check_optimize_result(\n"
          ]
        },
        {
          "output_type": "stream",
          "name": "stdout",
          "text": [
            "Model: Logistic Regression\n",
            "Accuracy: 0.9223, Precision: 0.9221, Recall: 0.9223, F1-score: 0.9221\n",
            "Confusion Matrix:\n",
            "[[1139    0    6    3    4    4    5    4    8    2]\n",
            " [   0 1283    8    6    2    3    1    2   13    4]\n",
            " [   1   18 1054   14   13    5   18   17   29    5]\n",
            " [   4    8   36 1090    1   32    2    9   22   15]\n",
            " [   4    2    5    2 1108    3    9    4    7   32]\n",
            " [  15    5   14   39    9  961   11    4   38    8]\n",
            " [  11    0   15    1    9   14 1120    2    5    0]\n",
            " [   5    7   15    9   10    2    0 1209    6   36]\n",
            " [  10   13   14   31    9   32   10    4 1028    9]\n",
            " [   5    4    5   14   28   10    0   39   14 1075]]\n",
            "\n",
            "Model: Decision Tree\n",
            "Accuracy: 0.8643, Precision: 0.8640, Recall: 0.8643, F1-score: 0.8641\n",
            "Confusion Matrix:\n",
            "[[1066    1   20    9    5   18   17   10   14   15]\n",
            " [   0 1270    4   11    3    8    9    4   11    2]\n",
            " [  14   16  998   25   22   11   10   20   43   15]\n",
            " [  13   14   31 1016    7   59   10   13   28   28]\n",
            " [   2    6   16    4 1019    8   12   16   25   68]\n",
            " [  19   16   14   62    9  895   28    7   34   20]\n",
            " [  18   10   19    5   25   22 1045    3   25    5]\n",
            " [   3   16   21   21   12    7    6 1171   12   30]\n",
            " [  17   17   39   54   30   38   20   13  905   27]\n",
            " [   6   14   12   15   61   24    2   38   35  987]]\n",
            "\n",
            "Model: Random Forest\n",
            "Accuracy: 0.9688, Precision: 0.9688, Recall: 0.9688, F1-score: 0.9687\n",
            "Confusion Matrix:\n",
            "[[1155    0    1    1    3    3    3    0    7    2]\n",
            " [   0 1303    8    5    2    0    1    1    0    2]\n",
            " [   2    6 1140    5    2    0    3    8    6    2]\n",
            " [   4    0   13 1162    0   13    0    9    9    9]\n",
            " [   1    0    2    1 1139    0    6    4    1   22]\n",
            " [   6    2    2    9    3 1063    4    2   10    3]\n",
            " [   6    0    1    0    2    7 1159    0    2    0]\n",
            " [   0    9   14    2    6    0    0 1255    2   11]\n",
            " [   1    3    8    9   10    6    4    2 1113    4]\n",
            " [   6    2    4   11   15    3    2   12    3 1136]]\n",
            "\n",
            "Model: Support Vector Machine\n",
            "Accuracy: 0.9776, Precision: 0.9776, Recall: 0.9776, F1-score: 0.9776\n",
            "Confusion Matrix:\n",
            "[[1163    0    3    0    2    3    1    0    2    1]\n",
            " [   0 1310    5    2    1    0    0    0    1    3]\n",
            " [   1    5 1149    2    5    1    0    6    4    1]\n",
            " [   1    1   15 1169    0   11    0    4   13    5]\n",
            " [   2    0    2    0 1157    0    1    2    0   12]\n",
            " [   3    1    3   12    4 1069    5    1    5    1]\n",
            " [   1    1    1    0    1    3 1166    0    4    0]\n",
            " [   1    7   12    3    6    0    0 1263    3    4]\n",
            " [   1    2    4    6    6    6    2    2 1128    3]\n",
            " [   4    2    1    1   14    3    0    8    4 1157]]\n",
            "\n",
            "Training ratio: 0.5, Testing ratio: 0.5\n"
          ]
        },
        {
          "output_type": "stream",
          "name": "stderr",
          "text": [
            "/usr/local/lib/python3.10/dist-packages/sklearn/linear_model/_logistic.py:458: ConvergenceWarning: lbfgs failed to converge (status=1):\n",
            "STOP: TOTAL NO. of ITERATIONS REACHED LIMIT.\n",
            "\n",
            "Increase the number of iterations (max_iter) or scale the data as shown in:\n",
            "    https://scikit-learn.org/stable/modules/preprocessing.html\n",
            "Please also refer to the documentation for alternative solver options:\n",
            "    https://scikit-learn.org/stable/modules/linear_model.html#logistic-regression\n",
            "  n_iter_i = _check_optimize_result(\n"
          ]
        },
        {
          "output_type": "stream",
          "name": "stdout",
          "text": [
            "Model: Logistic Regression\n",
            "Accuracy: 0.9137, Precision: 0.9135, Recall: 0.9137, F1-score: 0.9135\n",
            "Confusion Matrix:\n",
            "[[2834    1   13    5   13   25   25    9   26    5]\n",
            " [   0 3236   21   15    5   11    2    4   27    8]\n",
            " [  19   28 2602   49   30   12   54   44   59   23]\n",
            " [  11   11   84 2733    2  100   11   26   64   35]\n",
            " [   7   13   20    3 2704    7   36   11   19  110]\n",
            " [  37   13   32  113   23 2366   42    8   98   35]\n",
            " [  20    2   28    5   27   43 2879    7   10    1]\n",
            " [   8   13   43   21   34    4    0 2901    8  126]\n",
            " [  20   65   47   87   18   96   34    9 2446   34]\n",
            " [  16   14   10   36   78   17    0   80   24 2710]]\n",
            "\n",
            "Model: Decision Tree\n",
            "Accuracy: 0.8493, Precision: 0.8490, Recall: 0.8493, F1-score: 0.8491\n",
            "Confusion Matrix:\n",
            "[[2675    1   39   39   17   47   57   12   36   33]\n",
            " [   3 3149   28   25   16   18   12   25   45    8]\n",
            " [  39   29 2408   74   46   42   60   70  114   38]\n",
            " [  23   20   96 2493   17  170   34   45  112   67]\n",
            " [  24   28   43   18 2490   26   41   57   55  148]\n",
            " [  48   36   31  155   33 2196   80   26   80   82]\n",
            " [  41   27   43   24   68   82 2664    3   46   24]\n",
            " [   5   36   73   46   38   26    5 2815   32   82]\n",
            " [  26   59  103   76   80   99   63   44 2190  116]\n",
            " [  22   14   33   62  172   75    8  113   88 2398]]\n",
            "\n",
            "Model: Random Forest\n",
            "Accuracy: 0.9624, Precision: 0.9624, Recall: 0.9624, F1-score: 0.9623\n",
            "Confusion Matrix:\n",
            "[[2900    0    3    2    3    6   17    1   22    2]\n",
            " [   0 3272   21   12    6    4    5    2    4    3]\n",
            " [  11    7 2824   14   13    1   11   20   15    4]\n",
            " [   6    2   53 2894    3   40    6   27   31   15]\n",
            " [   5    6    5    0 2833    0   15   11    4   51]\n",
            " [  17    4    5   42    6 2628   24    2   24   15]\n",
            " [  11    2    2    0    6   20 2976    0    5    0]\n",
            " [   4   16   38    5   15    0    0 3033    8   39]\n",
            " [   4   17   22   36   18   26   21    2 2679   31]\n",
            " [  10    8    9   31   38    8    2   26   21 2832]]\n",
            "\n",
            "Model: Support Vector Machine\n",
            "Accuracy: 0.9727, Precision: 0.9727, Recall: 0.9727, F1-score: 0.9727\n",
            "Confusion Matrix:\n",
            "[[2917    1    6    1    4    5    8    2   10    2]\n",
            " [   0 3284   20    8    5    0    1    2    4    5]\n",
            " [   3    8 2837   13   12    6   10   20    8    3]\n",
            " [   3    3   36 2940    2   33    1   17   31   11]\n",
            " [   2    7    5    0 2861    0   12    8    2   33]\n",
            " [  10    2    4   35    7 2675   17    0   12    5]\n",
            " [   5    1    5    0    7   13 2986    0    5    0]\n",
            " [   2   15   22    6   23    1    0 3062    3   24]\n",
            " [   2   14   10   19   16   24    8    6 2745   12]\n",
            " [   9    7    3   15   37    6    1   25    8 2874]]\n",
            "\n",
            "Training ratio: 0.2, Testing ratio: 0.8\n"
          ]
        },
        {
          "output_type": "stream",
          "name": "stderr",
          "text": [
            "/usr/local/lib/python3.10/dist-packages/sklearn/linear_model/_logistic.py:458: ConvergenceWarning: lbfgs failed to converge (status=1):\n",
            "STOP: TOTAL NO. of ITERATIONS REACHED LIMIT.\n",
            "\n",
            "Increase the number of iterations (max_iter) or scale the data as shown in:\n",
            "    https://scikit-learn.org/stable/modules/preprocessing.html\n",
            "Please also refer to the documentation for alternative solver options:\n",
            "    https://scikit-learn.org/stable/modules/linear_model.html#logistic-regression\n",
            "  n_iter_i = _check_optimize_result(\n"
          ]
        },
        {
          "output_type": "stream",
          "name": "stdout",
          "text": [
            "Model: Logistic Regression\n",
            "Accuracy: 0.8857, Precision: 0.8851, Recall: 0.8857, F1-score: 0.8853\n",
            "Confusion Matrix:\n",
            "[[4540    1   36   19   12   37   44   12   39   11]\n",
            " [   2 5180   30   35    8   24    7   15   49    5]\n",
            " [  43   54 4130  134   40   28   86   87  106   34]\n",
            " [  25   33  164 4261    9  204   17   35  155   63]\n",
            " [  14   17   31   11 4235   22   72   24   47  230]\n",
            " [  99   23   47  227   47 3471  125   21  227   68]\n",
            " [  55    7   76    8   61   75 4389    3   30    7]\n",
            " [  29   20   67   60   64    9    3 4482   14  259]\n",
            " [  40  101  146  205   37  188   51   33 3754   92]\n",
            " [  24   21   30   73  199   51    5  227   63 4070]]\n",
            "\n",
            "Model: Decision Tree\n",
            "Accuracy: 0.8160, Precision: 0.8151, Recall: 0.8160, F1-score: 0.8154\n",
            "Confusion Matrix:\n",
            "[[4202   15  103   66   32   98   62   53   74   46]\n",
            " [   6 4981   62   66   44   30   32   34   80   20]\n",
            " [ 147   99 3576  194   86  102  166  143  152   77]\n",
            " [  50   85  191 3815   63  240   53   94  226  149]\n",
            " [  31   64   78   51 3793   52   96   82  146  310]\n",
            " [ 106   60   83  230   56 3248  165   71  168  168]\n",
            " [  84   34  108   49   81  174 4041   11   81   48]\n",
            " [  26   68  149   75   55   36   14 4396   40  148]\n",
            " [  90  145  202  236  131  170   96   56 3342  179]\n",
            " [  39   47   58   97  263  108   21  247  108 3775]]\n",
            "\n",
            "Model: Random Forest\n",
            "Accuracy: 0.9516, Precision: 0.9515, Recall: 0.9516, F1-score: 0.9515\n",
            "Confusion Matrix:\n",
            "[[4662    1    7    4    3   10   28    1   33    2]\n",
            " [   0 5261   28   17   10   11    6   10    8    4]\n",
            " [  33   14 4513   22   35    6   33   43   37    6]\n",
            " [  12   12   98 4578    4   99   11   45   63   44]\n",
            " [  12    8    8    0 4494    2   31   12   14  122]\n",
            " [  33   13   10   86   11 4049   59    5   42   47]\n",
            " [  30    9    7    0   13   21 4615    0   16    0]\n",
            " [  12   26   58    9   32    1    0 4772   14   83]\n",
            " [  12   40   42   58   29   44   27    8 4315   72]\n",
            " [  32   13   12   71   88   18    5   57   50 4417]]\n",
            "\n",
            "Model: Support Vector Machine\n",
            "Accuracy: 0.9633, Precision: 0.9633, Recall: 0.9633, F1-score: 0.9632\n",
            "Confusion Matrix:\n",
            "[[4685    2    8    3    7    7   17    0   16    6]\n",
            " [   1 5277   20   16   10    4    3    8    9    7]\n",
            " [  19   19 4555   24   33    6   23   28   28    7]\n",
            " [   4   13   75 4682    4   79    4   30   53   22]\n",
            " [   5    9   11    0 4560    0   22    7    8   81]\n",
            " [  17   12   12   66   15 4144   45    3   22   19]\n",
            " [  18    6   13    0   11   29 4626    0    8    0]\n",
            " [  12   23   31    9   40    4    1 4826    4   57]\n",
            " [   6   40   27   52   17   47   27    6 4401   24]\n",
            " [  17   14    5   43   92   15    1   64   30 4482]]\n",
            "\n",
            "Training ratio: 0.01, Testing ratio: 0.99\n"
          ]
        },
        {
          "output_type": "stream",
          "name": "stderr",
          "text": [
            "/usr/local/lib/python3.10/dist-packages/sklearn/linear_model/_logistic.py:458: ConvergenceWarning: lbfgs failed to converge (status=1):\n",
            "STOP: TOTAL NO. of ITERATIONS REACHED LIMIT.\n",
            "\n",
            "Increase the number of iterations (max_iter) or scale the data as shown in:\n",
            "    https://scikit-learn.org/stable/modules/preprocessing.html\n",
            "Please also refer to the documentation for alternative solver options:\n",
            "    https://scikit-learn.org/stable/modules/linear_model.html#logistic-regression\n",
            "  n_iter_i = _check_optimize_result(\n"
          ]
        },
        {
          "output_type": "stream",
          "name": "stdout",
          "text": [
            "Model: Logistic Regression\n",
            "Accuracy: 0.8302, Precision: 0.8295, Recall: 0.8302, F1-score: 0.8290\n",
            "Confusion Matrix:\n",
            "[[5553    0   63   35    6  138   22    7   29   14]\n",
            " [   2 6494   29   28   11   23   31   17   28   12]\n",
            " [ 108   81 4816  179   52   26  176  116  307   34]\n",
            " [  70   43  226 4813   34  354   79   45  294  107]\n",
            " [  51   28  128   11 4763   39  185   45   40  503]\n",
            " [ 145   85  135  413  126 3692  253   20  356  145]\n",
            " [ 173   25  178   15  105   53 5225   23   56    3]\n",
            " [  74   78  131  103  169  103    6 4975   53  513]\n",
            " [  42  264  178  272  148  290   87   34 4322  146]\n",
            " [  64   46  142  141  361   56   26  226  170 4659]]\n",
            "\n",
            "Model: Decision Tree\n",
            "Accuracy: 0.6157, Precision: 0.6156, Recall: 0.6157, F1-score: 0.6133\n",
            "Confusion Matrix:\n",
            "[[5004   11  175  156   75  116   89   26  167   48]\n",
            " [  10 5527  411  102   48   95   90  111  274    7]\n",
            " [ 380  371 3265  237  303  214  334  170  568   53]\n",
            " [ 128  283  483 3032  220  534  247  168  741  229]\n",
            " [ 135  132  342  281 3207  120  241  426  196  713]\n",
            " [ 391  168  387  384  242 2408  602   70  456  262]\n",
            " [ 229  119  500   90  469  248 3974   88  120   19]\n",
            " [ 179  144  374  164  121  431  430 3480  216  666]\n",
            " [ 108  380  660  482  187  367  226  135 3107  131]\n",
            " [ 148   85  458  450  166  159  107  466  286 3566]]\n",
            "\n",
            "Model: Random Forest\n",
            "Accuracy: 0.8646, Precision: 0.8687, Recall: 0.8646, F1-score: 0.8640\n",
            "Confusion Matrix:\n",
            "[[5601    1   18   40    8   34  100    2   60    3]\n",
            " [   0 6490   35   17    6   13   14   14   82    4]\n",
            " [  76  215 4979  161   46    8  177   86  129   18]\n",
            " [  35  118  176 5160   12  135   45   49  273   62]\n",
            " [   9   51   37   13 4930    5  172   12   55  509]\n",
            " [  73  103   27  915   61 3721  154   10  139  167]\n",
            " [  78   96   65    7  100   40 5460    1    9    0]\n",
            " [  67  144  142   60  123   16    2 5328   50  273]\n",
            " [  28  154   91  567   36   88   80   12 4581  146]\n",
            " [  33   63   50  125  210   27   17  131  125 5110]]\n",
            "\n",
            "Model: Support Vector Machine\n",
            "Accuracy: 0.8936, Precision: 0.8952, Recall: 0.8936, F1-score: 0.8936\n",
            "Confusion Matrix:\n",
            "[[5579    1   41   35    4   71   68    2   47   19]\n",
            " [   0 6494   34   25    9   31   12    8   56    6]\n",
            " [  43   76 5219  111   66   19  100   51  193   17]\n",
            " [  23   51  175 5334   10  141   30   41  222   38]\n",
            " [   4   37   83    2 5054    4   82    6   31  490]\n",
            " [  39   45   44  494   34 4415  123    5   72   99]\n",
            " [  61   39  101    2   54   55 5530    0   14    0]\n",
            " [  18  112  112   42  184   47    1 5326   56  307]\n",
            " [  17  105  104  374   38  132   43   14 4845  111]\n",
            " [  21   46   44  109  169   22    6  104   87 5283]]\n",
            "\n"
          ]
        }
      ]
    }
  ]
}